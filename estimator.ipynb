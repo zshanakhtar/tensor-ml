{
  "nbformat": 4,
  "nbformat_minor": 0,
  "metadata": {
    "colab": {
      "name": "estimator.ipynb",
      "provenance": [],
      "include_colab_link": true
    },
    "kernelspec": {
      "name": "python3",
      "display_name": "Python 3"
    }
  },
  "cells": [
    {
      "cell_type": "markdown",
      "metadata": {
        "id": "view-in-github",
        "colab_type": "text"
      },
      "source": [
        "<a href=\"https://colab.research.google.com/github/zshanakhtr/tensor-ml/blob/master/estimator.ipynb\" target=\"_parent\"><img src=\"https://colab.research.google.com/assets/colab-badge.svg\" alt=\"Open In Colab\"/></a>"
      ]
    },
    {
      "cell_type": "code",
      "metadata": {
        "id": "kN8P_K5g3SBW",
        "colab_type": "code",
        "colab": {
          "base_uri": "https://localhost:8080/",
          "height": 35
        },
        "outputId": "be411515-0a39-4349-d8c1-0a7c964bbd92"
      },
      "source": [
        "from __future__ import absolute_import, division, print_function, unicode_literals\n",
        "\n",
        "try:\n",
        "  # %tensorflow_version only exists in Colab.\n",
        "  %tensorflow_version 2.x\n",
        "except Exception:\n",
        "  pass\n",
        "\n",
        "import tensorflow as tf\n",
        "\n",
        "import pandas as pd"
      ],
      "execution_count": 1,
      "outputs": [
        {
          "output_type": "stream",
          "text": [
            "TensorFlow 2.x selected.\n"
          ],
          "name": "stdout"
        }
      ]
    },
    {
      "cell_type": "code",
      "metadata": {
        "id": "7HxI7Mi5367D",
        "colab_type": "code",
        "colab": {}
      },
      "source": [
        "CSV_COLUMN_NAMES = ['SepalLength', 'SepalWidth', 'PetalLength', 'PetalWidth', 'Species']\n",
        "SPECIES = ['Setosa', 'Versicolor', 'Virginica']"
      ],
      "execution_count": 0,
      "outputs": []
    },
    {
      "cell_type": "code",
      "metadata": {
        "id": "3SZvGC2R3-ex",
        "colab_type": "code",
        "colab": {
          "base_uri": "https://localhost:8080/",
          "height": 110
        },
        "outputId": "8e234617-e631-4c39-f74a-976698ab2d4b"
      },
      "source": [
        "train_path = tf.keras.utils.get_file(\n",
        "    \"iris_training.csv\", \"https://storage.googleapis.com/download.tensorflow.org/data/iris_training.csv\")\n",
        "test_path = tf.keras.utils.get_file(\n",
        "    \"iris_test.csv\", \"https://storage.googleapis.com/download.tensorflow.org/data/iris_test.csv\")\n",
        "\n",
        "train = pd.read_csv(train_path, names=CSV_COLUMN_NAMES, header=0)\n",
        "test = pd.read_csv(test_path, names=CSV_COLUMN_NAMES, header=0)"
      ],
      "execution_count": 3,
      "outputs": [
        {
          "output_type": "stream",
          "text": [
            "Downloading data from https://storage.googleapis.com/download.tensorflow.org/data/iris_training.csv\n",
            "8192/2194 [================================================================================================================] - 0s 0us/step\n",
            "Downloading data from https://storage.googleapis.com/download.tensorflow.org/data/iris_test.csv\n",
            "8192/573 [============================================================================================================================================================================================================================================================================================================================================================================================================================================] - 0s 0us/step\n"
          ],
          "name": "stdout"
        }
      ]
    },
    {
      "cell_type": "code",
      "metadata": {
        "id": "eXSxi-lP4DXZ",
        "colab_type": "code",
        "colab": {
          "base_uri": "https://localhost:8080/",
          "height": 206
        },
        "outputId": "390e9f39-39e8-4ba1-aaaa-4cd39a84cc39"
      },
      "source": [
        "train.head()"
      ],
      "execution_count": 4,
      "outputs": [
        {
          "output_type": "execute_result",
          "data": {
            "text/html": [
              "<div>\n",
              "<style scoped>\n",
              "    .dataframe tbody tr th:only-of-type {\n",
              "        vertical-align: middle;\n",
              "    }\n",
              "\n",
              "    .dataframe tbody tr th {\n",
              "        vertical-align: top;\n",
              "    }\n",
              "\n",
              "    .dataframe thead th {\n",
              "        text-align: right;\n",
              "    }\n",
              "</style>\n",
              "<table border=\"1\" class=\"dataframe\">\n",
              "  <thead>\n",
              "    <tr style=\"text-align: right;\">\n",
              "      <th></th>\n",
              "      <th>SepalLength</th>\n",
              "      <th>SepalWidth</th>\n",
              "      <th>PetalLength</th>\n",
              "      <th>PetalWidth</th>\n",
              "      <th>Species</th>\n",
              "    </tr>\n",
              "  </thead>\n",
              "  <tbody>\n",
              "    <tr>\n",
              "      <th>0</th>\n",
              "      <td>6.4</td>\n",
              "      <td>2.8</td>\n",
              "      <td>5.6</td>\n",
              "      <td>2.2</td>\n",
              "      <td>2</td>\n",
              "    </tr>\n",
              "    <tr>\n",
              "      <th>1</th>\n",
              "      <td>5.0</td>\n",
              "      <td>2.3</td>\n",
              "      <td>3.3</td>\n",
              "      <td>1.0</td>\n",
              "      <td>1</td>\n",
              "    </tr>\n",
              "    <tr>\n",
              "      <th>2</th>\n",
              "      <td>4.9</td>\n",
              "      <td>2.5</td>\n",
              "      <td>4.5</td>\n",
              "      <td>1.7</td>\n",
              "      <td>2</td>\n",
              "    </tr>\n",
              "    <tr>\n",
              "      <th>3</th>\n",
              "      <td>4.9</td>\n",
              "      <td>3.1</td>\n",
              "      <td>1.5</td>\n",
              "      <td>0.1</td>\n",
              "      <td>0</td>\n",
              "    </tr>\n",
              "    <tr>\n",
              "      <th>4</th>\n",
              "      <td>5.7</td>\n",
              "      <td>3.8</td>\n",
              "      <td>1.7</td>\n",
              "      <td>0.3</td>\n",
              "      <td>0</td>\n",
              "    </tr>\n",
              "  </tbody>\n",
              "</table>\n",
              "</div>"
            ],
            "text/plain": [
              "   SepalLength  SepalWidth  PetalLength  PetalWidth  Species\n",
              "0          6.4         2.8          5.6         2.2        2\n",
              "1          5.0         2.3          3.3         1.0        1\n",
              "2          4.9         2.5          4.5         1.7        2\n",
              "3          4.9         3.1          1.5         0.1        0\n",
              "4          5.7         3.8          1.7         0.3        0"
            ]
          },
          "metadata": {
            "tags": []
          },
          "execution_count": 4
        }
      ]
    },
    {
      "cell_type": "code",
      "metadata": {
        "id": "d-Z8DhWX4Grf",
        "colab_type": "code",
        "colab": {
          "base_uri": "https://localhost:8080/",
          "height": 206
        },
        "outputId": "85aaa83e-e449-4109-91f3-de57dcc79971"
      },
      "source": [
        "train_y = train.pop('Species')\n",
        "test_y = test.pop('Species')\n",
        "\n",
        "# The label column has now been removed from the features.\n",
        "train.head()"
      ],
      "execution_count": 5,
      "outputs": [
        {
          "output_type": "execute_result",
          "data": {
            "text/html": [
              "<div>\n",
              "<style scoped>\n",
              "    .dataframe tbody tr th:only-of-type {\n",
              "        vertical-align: middle;\n",
              "    }\n",
              "\n",
              "    .dataframe tbody tr th {\n",
              "        vertical-align: top;\n",
              "    }\n",
              "\n",
              "    .dataframe thead th {\n",
              "        text-align: right;\n",
              "    }\n",
              "</style>\n",
              "<table border=\"1\" class=\"dataframe\">\n",
              "  <thead>\n",
              "    <tr style=\"text-align: right;\">\n",
              "      <th></th>\n",
              "      <th>SepalLength</th>\n",
              "      <th>SepalWidth</th>\n",
              "      <th>PetalLength</th>\n",
              "      <th>PetalWidth</th>\n",
              "    </tr>\n",
              "  </thead>\n",
              "  <tbody>\n",
              "    <tr>\n",
              "      <th>0</th>\n",
              "      <td>6.4</td>\n",
              "      <td>2.8</td>\n",
              "      <td>5.6</td>\n",
              "      <td>2.2</td>\n",
              "    </tr>\n",
              "    <tr>\n",
              "      <th>1</th>\n",
              "      <td>5.0</td>\n",
              "      <td>2.3</td>\n",
              "      <td>3.3</td>\n",
              "      <td>1.0</td>\n",
              "    </tr>\n",
              "    <tr>\n",
              "      <th>2</th>\n",
              "      <td>4.9</td>\n",
              "      <td>2.5</td>\n",
              "      <td>4.5</td>\n",
              "      <td>1.7</td>\n",
              "    </tr>\n",
              "    <tr>\n",
              "      <th>3</th>\n",
              "      <td>4.9</td>\n",
              "      <td>3.1</td>\n",
              "      <td>1.5</td>\n",
              "      <td>0.1</td>\n",
              "    </tr>\n",
              "    <tr>\n",
              "      <th>4</th>\n",
              "      <td>5.7</td>\n",
              "      <td>3.8</td>\n",
              "      <td>1.7</td>\n",
              "      <td>0.3</td>\n",
              "    </tr>\n",
              "  </tbody>\n",
              "</table>\n",
              "</div>"
            ],
            "text/plain": [
              "   SepalLength  SepalWidth  PetalLength  PetalWidth\n",
              "0          6.4         2.8          5.6         2.2\n",
              "1          5.0         2.3          3.3         1.0\n",
              "2          4.9         2.5          4.5         1.7\n",
              "3          4.9         3.1          1.5         0.1\n",
              "4          5.7         3.8          1.7         0.3"
            ]
          },
          "metadata": {
            "tags": []
          },
          "execution_count": 5
        }
      ]
    },
    {
      "cell_type": "code",
      "metadata": {
        "id": "IqQPGGIJ4OhU",
        "colab_type": "code",
        "colab": {}
      },
      "source": [
        "def input_evaluation_set():\n",
        "    features = {'SepalLength': np.array([6.4, 5.0]),\n",
        "                'SepalWidth':  np.array([2.8, 2.3]),\n",
        "                'PetalLength': np.array([5.6, 3.3]),\n",
        "                'PetalWidth':  np.array([2.2, 1.0])}\n",
        "    labels = np.array([2, 1])\n",
        "    return features, labels"
      ],
      "execution_count": 0,
      "outputs": []
    },
    {
      "cell_type": "code",
      "metadata": {
        "id": "0oU9bBz94oza",
        "colab_type": "code",
        "colab": {}
      },
      "source": [
        "def input_fn(features, labels, training=True, batch_size=256):\n",
        "    \"\"\"An input function for training or evaluating\"\"\"\n",
        "    # Convert the inputs to a Dataset.\n",
        "    dataset = tf.data.Dataset.from_tensor_slices((dict(features), labels))\n",
        "\n",
        "    # Shuffle and repeat if you are in training mode.\n",
        "    if training:\n",
        "        dataset = dataset.shuffle(1000).repeat()\n",
        "    \n",
        "    return dataset.batch(batch_size)\n"
      ],
      "execution_count": 0,
      "outputs": []
    },
    {
      "cell_type": "code",
      "metadata": {
        "id": "hFGh17fj4tQh",
        "colab_type": "code",
        "colab": {}
      },
      "source": [
        "# Feature columns describe how to use the input.\n",
        "my_feature_columns = []\n",
        "for key in train.keys():\n",
        "    my_feature_columns.append(tf.feature_column.numeric_column(key=key))"
      ],
      "execution_count": 0,
      "outputs": []
    },
    {
      "cell_type": "code",
      "metadata": {
        "id": "sFoKEzDT4ywT",
        "colab_type": "code",
        "colab": {
          "base_uri": "https://localhost:8080/",
          "height": 201
        },
        "outputId": "4792d90f-bcc8-4aa3-fbd4-e4cb03bc558c"
      },
      "source": [
        "# Build a DNN with 2 hidden layers with 30 and 10 hidden nodes each.\n",
        "classifier = tf.estimator.DNNClassifier(\n",
        "    feature_columns=my_feature_columns,\n",
        "    # Two hidden layers of 10 nodes each.\n",
        "    hidden_units=[30, 10],\n",
        "    # The model must choose between 3 classes.\n",
        "    n_classes=3)"
      ],
      "execution_count": 13,
      "outputs": [
        {
          "output_type": "stream",
          "text": [
            "INFO:tensorflow:Using default config.\n",
            "WARNING:tensorflow:Using temporary folder as model directory: /tmp/tmp2_bdcxbg\n",
            "INFO:tensorflow:Using config: {'_model_dir': '/tmp/tmp2_bdcxbg', '_tf_random_seed': None, '_save_summary_steps': 100, '_save_checkpoints_steps': None, '_save_checkpoints_secs': 600, '_session_config': allow_soft_placement: true\n",
            "graph_options {\n",
            "  rewrite_options {\n",
            "    meta_optimizer_iterations: ONE\n",
            "  }\n",
            "}\n",
            ", '_keep_checkpoint_max': 5, '_keep_checkpoint_every_n_hours': 10000, '_log_step_count_steps': 100, '_train_distribute': None, '_device_fn': None, '_protocol': None, '_eval_distribute': None, '_experimental_distribute': None, '_experimental_max_worker_delay_secs': None, '_service': None, '_cluster_spec': <tensorflow.python.training.server_lib.ClusterSpec object at 0x7f0de0384438>, '_task_type': 'worker', '_task_id': 0, '_global_id_in_cluster': 0, '_master': '', '_evaluation_master': '', '_is_chief': True, '_num_ps_replicas': 0, '_num_worker_replicas': 1}\n"
          ],
          "name": "stdout"
        }
      ]
    },
    {
      "cell_type": "code",
      "metadata": {
        "id": "GgB4Ekdn5CGi",
        "colab_type": "code",
        "colab": {
          "base_uri": "https://localhost:8080/",
          "height": 1000
        },
        "outputId": "d5fefa4a-3131-40c2-bbde-bd13467d8016"
      },
      "source": [
        "# Train the Model.\n",
        "classifier.train(\n",
        "    input_fn=lambda: input_fn(train, train_y, training=True),\n",
        "    steps=5000)"
      ],
      "execution_count": 14,
      "outputs": [
        {
          "output_type": "stream",
          "text": [
            "INFO:tensorflow:Calling model_fn.\n",
            "WARNING:tensorflow:Layer dnn is casting an input tensor from dtype float64 to the layer's dtype of float32, which is new behavior in TensorFlow 2.  The layer has dtype float32 because it's dtype defaults to floatx.\n",
            "\n",
            "If you intended to run this layer in float32, you can safely ignore this warning. If in doubt, this warning is likely only an issue if you are porting a TensorFlow 1.X model to TensorFlow 2.\n",
            "\n",
            "To change all layers to have dtype float64 by default, call `tf.keras.backend.set_floatx('float64')`. To change just this layer, pass dtype='float64' to the layer constructor. If you are the author of this layer, you can disable autocasting by passing autocast=False to the base Layer constructor.\n",
            "\n",
            "WARNING:tensorflow:From /tensorflow-2.0.0-rc2/python3.6/tensorflow_estimator/python/estimator/head/base_head.py:550: to_float (from tensorflow.python.ops.math_ops) is deprecated and will be removed in a future version.\n",
            "Instructions for updating:\n",
            "Use `tf.cast` instead.\n",
            "WARNING:tensorflow:From /tensorflow-2.0.0-rc2/python3.6/tensorflow_core/python/keras/optimizer_v2/adagrad.py:108: calling Constant.__init__ (from tensorflow.python.ops.init_ops) with dtype is deprecated and will be removed in a future version.\n",
            "Instructions for updating:\n",
            "Call initializer instance with the dtype argument instead of passing it to the constructor\n",
            "WARNING:tensorflow:From /tensorflow-2.0.0-rc2/python3.6/tensorflow_estimator/python/estimator/model_fn.py:337: scalar (from tensorflow.python.framework.tensor_shape) is deprecated and will be removed in a future version.\n",
            "Instructions for updating:\n",
            "Use tf.TensorShape([]).\n",
            "INFO:tensorflow:Done calling model_fn.\n",
            "INFO:tensorflow:Create CheckpointSaverHook.\n",
            "WARNING:tensorflow:From /tensorflow-2.0.0-rc2/python3.6/tensorflow_core/python/ops/array_ops.py:1486: where (from tensorflow.python.ops.array_ops) is deprecated and will be removed in a future version.\n",
            "Instructions for updating:\n",
            "Use tf.where in 2.0, which has the same broadcast rule as np.where\n",
            "INFO:tensorflow:Graph was finalized.\n",
            "INFO:tensorflow:Running local_init_op.\n",
            "INFO:tensorflow:Done running local_init_op.\n",
            "INFO:tensorflow:Saving checkpoints for 0 into /tmp/tmp2_bdcxbg/model.ckpt.\n",
            "INFO:tensorflow:loss = 1.3492628, step = 0\n",
            "INFO:tensorflow:global_step/sec: 376.79\n",
            "INFO:tensorflow:loss = 1.0216349, step = 100 (0.267 sec)\n",
            "INFO:tensorflow:global_step/sec: 504.531\n",
            "INFO:tensorflow:loss = 0.9378304, step = 200 (0.198 sec)\n",
            "INFO:tensorflow:global_step/sec: 479.666\n",
            "INFO:tensorflow:loss = 0.8804691, step = 300 (0.208 sec)\n",
            "INFO:tensorflow:global_step/sec: 498.325\n",
            "INFO:tensorflow:loss = 0.8368937, step = 400 (0.201 sec)\n",
            "INFO:tensorflow:global_step/sec: 501.847\n",
            "INFO:tensorflow:loss = 0.7942476, step = 500 (0.200 sec)\n",
            "INFO:tensorflow:global_step/sec: 491.167\n",
            "INFO:tensorflow:loss = 0.76234186, step = 600 (0.206 sec)\n",
            "INFO:tensorflow:global_step/sec: 476.261\n",
            "INFO:tensorflow:loss = 0.7313472, step = 700 (0.208 sec)\n",
            "INFO:tensorflow:global_step/sec: 494.758\n",
            "INFO:tensorflow:loss = 0.71191883, step = 800 (0.201 sec)\n",
            "INFO:tensorflow:global_step/sec: 493.971\n",
            "INFO:tensorflow:loss = 0.6904027, step = 900 (0.204 sec)\n",
            "INFO:tensorflow:global_step/sec: 489.454\n",
            "INFO:tensorflow:loss = 0.6762532, step = 1000 (0.205 sec)\n",
            "INFO:tensorflow:global_step/sec: 485.983\n",
            "INFO:tensorflow:loss = 0.6581891, step = 1100 (0.203 sec)\n",
            "INFO:tensorflow:global_step/sec: 500.386\n",
            "INFO:tensorflow:loss = 0.63436943, step = 1200 (0.200 sec)\n",
            "INFO:tensorflow:global_step/sec: 458.4\n",
            "INFO:tensorflow:loss = 0.6243713, step = 1300 (0.218 sec)\n",
            "INFO:tensorflow:global_step/sec: 505.494\n",
            "INFO:tensorflow:loss = 0.6165454, step = 1400 (0.198 sec)\n",
            "INFO:tensorflow:global_step/sec: 491.252\n",
            "INFO:tensorflow:loss = 0.603914, step = 1500 (0.204 sec)\n",
            "INFO:tensorflow:global_step/sec: 501.711\n",
            "INFO:tensorflow:loss = 0.58457375, step = 1600 (0.203 sec)\n",
            "INFO:tensorflow:global_step/sec: 484.335\n",
            "INFO:tensorflow:loss = 0.58057356, step = 1700 (0.207 sec)\n",
            "INFO:tensorflow:global_step/sec: 479.769\n",
            "INFO:tensorflow:loss = 0.56783056, step = 1800 (0.207 sec)\n",
            "INFO:tensorflow:global_step/sec: 483.09\n",
            "INFO:tensorflow:loss = 0.57019174, step = 1900 (0.204 sec)\n",
            "INFO:tensorflow:global_step/sec: 481.008\n",
            "INFO:tensorflow:loss = 0.5533931, step = 2000 (0.211 sec)\n",
            "INFO:tensorflow:global_step/sec: 471.485\n",
            "INFO:tensorflow:loss = 0.5584178, step = 2100 (0.212 sec)\n",
            "INFO:tensorflow:global_step/sec: 496.756\n",
            "INFO:tensorflow:loss = 0.55217934, step = 2200 (0.198 sec)\n",
            "INFO:tensorflow:global_step/sec: 490.535\n",
            "INFO:tensorflow:loss = 0.5539063, step = 2300 (0.205 sec)\n",
            "INFO:tensorflow:global_step/sec: 471.406\n",
            "INFO:tensorflow:loss = 0.5375605, step = 2400 (0.214 sec)\n",
            "INFO:tensorflow:global_step/sec: 477.732\n",
            "INFO:tensorflow:loss = 0.5309551, step = 2500 (0.209 sec)\n",
            "INFO:tensorflow:global_step/sec: 459.629\n",
            "INFO:tensorflow:loss = 0.53328055, step = 2600 (0.216 sec)\n",
            "INFO:tensorflow:global_step/sec: 494.468\n",
            "INFO:tensorflow:loss = 0.5220431, step = 2700 (0.202 sec)\n",
            "INFO:tensorflow:global_step/sec: 498.522\n",
            "INFO:tensorflow:loss = 0.5174495, step = 2800 (0.202 sec)\n",
            "INFO:tensorflow:global_step/sec: 482.773\n",
            "INFO:tensorflow:loss = 0.52717406, step = 2900 (0.206 sec)\n",
            "INFO:tensorflow:global_step/sec: 498.782\n",
            "INFO:tensorflow:loss = 0.50805414, step = 3000 (0.201 sec)\n",
            "INFO:tensorflow:global_step/sec: 453.257\n",
            "INFO:tensorflow:loss = 0.5189435, step = 3100 (0.224 sec)\n",
            "INFO:tensorflow:global_step/sec: 480.663\n",
            "INFO:tensorflow:loss = 0.5148821, step = 3200 (0.208 sec)\n",
            "INFO:tensorflow:global_step/sec: 485.419\n",
            "INFO:tensorflow:loss = 0.49854946, step = 3300 (0.203 sec)\n",
            "INFO:tensorflow:global_step/sec: 487.377\n",
            "INFO:tensorflow:loss = 0.49693137, step = 3400 (0.205 sec)\n",
            "INFO:tensorflow:global_step/sec: 474.345\n",
            "INFO:tensorflow:loss = 0.4871898, step = 3500 (0.211 sec)\n",
            "INFO:tensorflow:global_step/sec: 492.062\n",
            "INFO:tensorflow:loss = 0.4853719, step = 3600 (0.203 sec)\n",
            "INFO:tensorflow:global_step/sec: 485.086\n",
            "INFO:tensorflow:loss = 0.48071963, step = 3700 (0.208 sec)\n",
            "INFO:tensorflow:global_step/sec: 500.72\n",
            "INFO:tensorflow:loss = 0.47606578, step = 3800 (0.198 sec)\n",
            "INFO:tensorflow:global_step/sec: 471.39\n",
            "INFO:tensorflow:loss = 0.48764518, step = 3900 (0.212 sec)\n",
            "INFO:tensorflow:global_step/sec: 491.735\n",
            "INFO:tensorflow:loss = 0.48244613, step = 4000 (0.207 sec)\n",
            "INFO:tensorflow:global_step/sec: 480.872\n",
            "INFO:tensorflow:loss = 0.4910029, step = 4100 (0.205 sec)\n",
            "INFO:tensorflow:global_step/sec: 475.278\n",
            "INFO:tensorflow:loss = 0.47497532, step = 4200 (0.213 sec)\n",
            "INFO:tensorflow:global_step/sec: 475.968\n",
            "INFO:tensorflow:loss = 0.47574294, step = 4300 (0.211 sec)\n",
            "INFO:tensorflow:global_step/sec: 487.585\n",
            "INFO:tensorflow:loss = 0.46556482, step = 4400 (0.201 sec)\n",
            "INFO:tensorflow:global_step/sec: 472.041\n",
            "INFO:tensorflow:loss = 0.47306168, step = 4500 (0.215 sec)\n",
            "INFO:tensorflow:global_step/sec: 467.516\n",
            "INFO:tensorflow:loss = 0.47556996, step = 4600 (0.211 sec)\n",
            "INFO:tensorflow:global_step/sec: 495.047\n",
            "INFO:tensorflow:loss = 0.47687447, step = 4700 (0.204 sec)\n",
            "INFO:tensorflow:global_step/sec: 485.036\n",
            "INFO:tensorflow:loss = 0.46651298, step = 4800 (0.206 sec)\n",
            "INFO:tensorflow:global_step/sec: 470.079\n",
            "INFO:tensorflow:loss = 0.46073493, step = 4900 (0.210 sec)\n",
            "INFO:tensorflow:Saving checkpoints for 5000 into /tmp/tmp2_bdcxbg/model.ckpt.\n",
            "INFO:tensorflow:Loss for final step: 0.47093546.\n"
          ],
          "name": "stdout"
        },
        {
          "output_type": "execute_result",
          "data": {
            "text/plain": [
              "<tensorflow_estimator.python.estimator.canned.dnn.DNNClassifierV2 at 0x7f0de03842b0>"
            ]
          },
          "metadata": {
            "tags": []
          },
          "execution_count": 14
        }
      ]
    },
    {
      "cell_type": "code",
      "metadata": {
        "id": "l50PCA355m1-",
        "colab_type": "code",
        "colab": {
          "base_uri": "https://localhost:8080/",
          "height": 382
        },
        "outputId": "83bbc34c-bb2b-4d5f-cd62-499b7c83e3d3"
      },
      "source": [
        "eval_result = classifier.evaluate(\n",
        "    input_fn=lambda: input_fn(test, test_y, training=False))\n",
        "\n",
        "print('\\nTest set accuracy: {accuracy:0.3f}\\n'.format(**eval_result))"
      ],
      "execution_count": 15,
      "outputs": [
        {
          "output_type": "stream",
          "text": [
            "INFO:tensorflow:Calling model_fn.\n",
            "WARNING:tensorflow:Layer dnn is casting an input tensor from dtype float64 to the layer's dtype of float32, which is new behavior in TensorFlow 2.  The layer has dtype float32 because it's dtype defaults to floatx.\n",
            "\n",
            "If you intended to run this layer in float32, you can safely ignore this warning. If in doubt, this warning is likely only an issue if you are porting a TensorFlow 1.X model to TensorFlow 2.\n",
            "\n",
            "To change all layers to have dtype float64 by default, call `tf.keras.backend.set_floatx('float64')`. To change just this layer, pass dtype='float64' to the layer constructor. If you are the author of this layer, you can disable autocasting by passing autocast=False to the base Layer constructor.\n",
            "\n",
            "INFO:tensorflow:Done calling model_fn.\n",
            "INFO:tensorflow:Starting evaluation at 2019-10-07T15:46:25Z\n",
            "INFO:tensorflow:Graph was finalized.\n",
            "INFO:tensorflow:Restoring parameters from /tmp/tmp2_bdcxbg/model.ckpt-5000\n",
            "INFO:tensorflow:Running local_init_op.\n",
            "INFO:tensorflow:Done running local_init_op.\n",
            "INFO:tensorflow:Finished evaluation at 2019-10-07-15:46:25\n",
            "INFO:tensorflow:Saving dict for global step 5000: accuracy = 0.53333336, average_loss = 0.55328286, global_step = 5000, loss = 0.55328286\n",
            "INFO:tensorflow:Saving 'checkpoint_path' summary for global step 5000: /tmp/tmp2_bdcxbg/model.ckpt-5000\n",
            "\n",
            "Test set accuracy: 0.533\n",
            "\n"
          ],
          "name": "stdout"
        }
      ]
    },
    {
      "cell_type": "code",
      "metadata": {
        "id": "mtpoLDxs5uHS",
        "colab_type": "code",
        "colab": {}
      },
      "source": [
        "# Generate predictions from the model\n",
        "expected = ['Setosa', 'Versicolor', 'Virginica']\n",
        "predict_x = {\n",
        "    'SepalLength': [5.1, 5.9, 6.9],\n",
        "    'SepalWidth': [3.3, 3.0, 3.1],\n",
        "    'PetalLength': [1.7, 4.2, 5.4],\n",
        "    'PetalWidth': [0.5, 1.5, 2.1],\n",
        "}\n",
        "\n",
        "def input_fn(features, batch_size=256):\n",
        "    \"\"\"An input function for prediction.\"\"\"\n",
        "    # Convert the inputs to a Dataset without labels.\n",
        "    return tf.data.Dataset.from_tensor_slices(dict(features)).batch(batch_size)\n",
        "\n",
        "predictions = classifier.predict(\n",
        "    input_fn=lambda: input_fn(predict_x))"
      ],
      "execution_count": 0,
      "outputs": []
    },
    {
      "cell_type": "code",
      "metadata": {
        "id": "2IeahFpQ5yHI",
        "colab_type": "code",
        "colab": {
          "base_uri": "https://localhost:8080/",
          "height": 181
        },
        "outputId": "76c98f68-eef9-4eb4-ebd4-3d08791c89c4"
      },
      "source": [
        "for pred_dict, expec in zip(predictions, expected):\n",
        "    class_id = pred_dict['class_ids'][0]\n",
        "    probability = pred_dict['probabilities'][class_id]\n",
        "\n",
        "    print('Prediction is \"{}\" ({:.1f}%), expected \"{}\"'.format(\n",
        "        SPECIES[class_id], 100 * probability, expec))"
      ],
      "execution_count": 21,
      "outputs": [
        {
          "output_type": "stream",
          "text": [
            "INFO:tensorflow:Calling model_fn.\n",
            "INFO:tensorflow:Done calling model_fn.\n",
            "INFO:tensorflow:Graph was finalized.\n",
            "INFO:tensorflow:Restoring parameters from /tmp/tmp2_bdcxbg/model.ckpt-5000\n",
            "INFO:tensorflow:Running local_init_op.\n",
            "INFO:tensorflow:Done running local_init_op.\n",
            "Prediction is \"Setosa\" (90.1%), expected \"Setosa\"\n",
            "Prediction is \"Virginica\" (50.2%), expected \"Versicolor\"\n",
            "Prediction is \"Virginica\" (59.6%), expected \"Virginica\"\n"
          ],
          "name": "stdout"
        }
      ]
    }
  ]
}